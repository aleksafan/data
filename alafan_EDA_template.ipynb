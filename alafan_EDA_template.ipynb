{
 "cells": [
  {
   "cell_type": "code",
   "execution_count": 1,
   "metadata": {},
   "outputs": [],
   "source": [
    "import pandas as pd\n",
    "import seaborn as sns"
   ]
  },
  {
   "cell_type": "code",
   "execution_count": 2,
   "metadata": {},
   "outputs": [],
   "source": [
    "df = pd.read_csv('/Users/millioncats/Downloads/marketing.csv')"
   ]
  },
  {
   "cell_type": "code",
   "execution_count": 3,
   "metadata": {},
   "outputs": [
    {
     "data": {
      "text/html": [
       "<div>\n",
       "<style scoped>\n",
       "    .dataframe tbody tr th:only-of-type {\n",
       "        vertical-align: middle;\n",
       "    }\n",
       "\n",
       "    .dataframe tbody tr th {\n",
       "        vertical-align: top;\n",
       "    }\n",
       "\n",
       "    .dataframe thead th {\n",
       "        text-align: right;\n",
       "    }\n",
       "</style>\n",
       "<table border=\"1\" class=\"dataframe\">\n",
       "  <thead>\n",
       "    <tr style=\"text-align: right;\">\n",
       "      <th></th>\n",
       "      <th>ad_spend</th>\n",
       "      <th>monthly_pageviews</th>\n",
       "      <th>ad_format</th>\n",
       "      <th>ad_sales</th>\n",
       "      <th>shop_id</th>\n",
       "      <th>timestamp</th>\n",
       "      <th>app</th>\n",
       "    </tr>\n",
       "  </thead>\n",
       "  <tbody>\n",
       "    <tr>\n",
       "      <th>0</th>\n",
       "      <td>19.4</td>\n",
       "      <td>19402</td>\n",
       "      <td>facebook_carousel_ad</td>\n",
       "      <td>20.040001</td>\n",
       "      <td>9832</td>\n",
       "      <td>2017-05-01 08:12:59</td>\n",
       "      <td>app2</td>\n",
       "    </tr>\n",
       "    <tr>\n",
       "      <th>1</th>\n",
       "      <td>60.0</td>\n",
       "      <td>11344</td>\n",
       "      <td>facebook_carousel_ad</td>\n",
       "      <td>384.429993</td>\n",
       "      <td>9535</td>\n",
       "      <td>2017-07-11 16:14:44</td>\n",
       "      <td>app1</td>\n",
       "    </tr>\n",
       "    <tr>\n",
       "      <th>2</th>\n",
       "      <td>15.0</td>\n",
       "      <td>36950</td>\n",
       "      <td>facebook_carousel_ad</td>\n",
       "      <td>124.620003</td>\n",
       "      <td>2495</td>\n",
       "      <td>2017-08-24 21:29:03</td>\n",
       "      <td>app1</td>\n",
       "    </tr>\n",
       "    <tr>\n",
       "      <th>3</th>\n",
       "      <td>60.0</td>\n",
       "      <td>36780</td>\n",
       "      <td>facebook_carousel_ad</td>\n",
       "      <td>165.649994</td>\n",
       "      <td>9535</td>\n",
       "      <td>2017-08-17 00:43:07</td>\n",
       "      <td>app2</td>\n",
       "    </tr>\n",
       "    <tr>\n",
       "      <th>4</th>\n",
       "      <td>45.0</td>\n",
       "      <td>34219</td>\n",
       "      <td>facebook_carousel_ad</td>\n",
       "      <td>81.800003</td>\n",
       "      <td>2047</td>\n",
       "      <td>2017-03-06 13:25:12</td>\n",
       "      <td>app1</td>\n",
       "    </tr>\n",
       "  </tbody>\n",
       "</table>\n",
       "</div>"
      ],
      "text/plain": [
       "   ad_spend  monthly_pageviews             ad_format    ad_sales  shop_id  \\\n",
       "0      19.4              19402  facebook_carousel_ad   20.040001     9832   \n",
       "1      60.0              11344  facebook_carousel_ad  384.429993     9535   \n",
       "2      15.0              36950  facebook_carousel_ad  124.620003     2495   \n",
       "3      60.0              36780  facebook_carousel_ad  165.649994     9535   \n",
       "4      45.0              34219  facebook_carousel_ad   81.800003     2047   \n",
       "\n",
       "             timestamp   app  \n",
       "0  2017-05-01 08:12:59  app2  \n",
       "1  2017-07-11 16:14:44  app1  \n",
       "2  2017-08-24 21:29:03  app1  \n",
       "3  2017-08-17 00:43:07  app2  \n",
       "4  2017-03-06 13:25:12  app1  "
      ]
     },
     "execution_count": 3,
     "metadata": {},
     "output_type": "execute_result"
    }
   ],
   "source": [
    "df.head()"
   ]
  },
  {
   "cell_type": "code",
   "execution_count": 4,
   "metadata": {},
   "outputs": [
    {
     "data": {
      "text/html": [
       "<div>\n",
       "<style scoped>\n",
       "    .dataframe tbody tr th:only-of-type {\n",
       "        vertical-align: middle;\n",
       "    }\n",
       "\n",
       "    .dataframe tbody tr th {\n",
       "        vertical-align: top;\n",
       "    }\n",
       "\n",
       "    .dataframe thead th {\n",
       "        text-align: right;\n",
       "    }\n",
       "</style>\n",
       "<table border=\"1\" class=\"dataframe\">\n",
       "  <thead>\n",
       "    <tr style=\"text-align: right;\">\n",
       "      <th></th>\n",
       "      <th>ad_spend</th>\n",
       "      <th>monthly_pageviews</th>\n",
       "      <th>ad_sales</th>\n",
       "      <th>shop_id</th>\n",
       "    </tr>\n",
       "  </thead>\n",
       "  <tbody>\n",
       "    <tr>\n",
       "      <th>count</th>\n",
       "      <td>18400.000000</td>\n",
       "      <td>1.840000e+04</td>\n",
       "      <td>18400.000000</td>\n",
       "      <td>18400.000000</td>\n",
       "    </tr>\n",
       "    <tr>\n",
       "      <th>mean</th>\n",
       "      <td>15.491507</td>\n",
       "      <td>2.213469e+04</td>\n",
       "      <td>20.656722</td>\n",
       "      <td>12939.087065</td>\n",
       "    </tr>\n",
       "    <tr>\n",
       "      <th>std</th>\n",
       "      <td>138.966461</td>\n",
       "      <td>1.242666e+05</td>\n",
       "      <td>407.981457</td>\n",
       "      <td>8886.417728</td>\n",
       "    </tr>\n",
       "    <tr>\n",
       "      <th>min</th>\n",
       "      <td>0.000000</td>\n",
       "      <td>0.000000e+00</td>\n",
       "      <td>0.000000</td>\n",
       "      <td>3.000000</td>\n",
       "    </tr>\n",
       "    <tr>\n",
       "      <th>25%</th>\n",
       "      <td>0.000000</td>\n",
       "      <td>2.750000e+02</td>\n",
       "      <td>0.000000</td>\n",
       "      <td>5367.000000</td>\n",
       "    </tr>\n",
       "    <tr>\n",
       "      <th>50%</th>\n",
       "      <td>0.000000</td>\n",
       "      <td>1.514500e+03</td>\n",
       "      <td>0.000000</td>\n",
       "      <td>11697.500000</td>\n",
       "    </tr>\n",
       "    <tr>\n",
       "      <th>75%</th>\n",
       "      <td>15.000000</td>\n",
       "      <td>7.579000e+03</td>\n",
       "      <td>0.000000</td>\n",
       "      <td>19528.250000</td>\n",
       "    </tr>\n",
       "    <tr>\n",
       "      <th>max</th>\n",
       "      <td>17114.759766</td>\n",
       "      <td>3.726401e+06</td>\n",
       "      <td>48885.281250</td>\n",
       "      <td>31017.000000</td>\n",
       "    </tr>\n",
       "  </tbody>\n",
       "</table>\n",
       "</div>"
      ],
      "text/plain": [
       "           ad_spend  monthly_pageviews      ad_sales       shop_id\n",
       "count  18400.000000       1.840000e+04  18400.000000  18400.000000\n",
       "mean      15.491507       2.213469e+04     20.656722  12939.087065\n",
       "std      138.966461       1.242666e+05    407.981457   8886.417728\n",
       "min        0.000000       0.000000e+00      0.000000      3.000000\n",
       "25%        0.000000       2.750000e+02      0.000000   5367.000000\n",
       "50%        0.000000       1.514500e+03      0.000000  11697.500000\n",
       "75%       15.000000       7.579000e+03      0.000000  19528.250000\n",
       "max    17114.759766       3.726401e+06  48885.281250  31017.000000"
      ]
     },
     "execution_count": 4,
     "metadata": {},
     "output_type": "execute_result"
    }
   ],
   "source": [
    "df.describe()"
   ]
  },
  {
   "cell_type": "code",
   "execution_count": 5,
   "metadata": {},
   "outputs": [
    {
     "data": {
      "text/plain": [
       "<matplotlib.legend.Legend at 0x105d87780>"
      ]
     },
     "execution_count": 5,
     "metadata": {},
     "output_type": "execute_result"
    },
    {
     "data": {
      "image/png": "[encoded data removed]",
      "text/plain": [
       "<Figure size 432x288 with 1 Axes>"
      ]
     },
     "metadata": {
      "needs_background": "light"
     },
     "output_type": "display_data"
    }
   ],
   "source": [
    "#Quantitative distribution\n",
    "p = sns.distplot(df.ad_spend, label = 'ad_spend')\n",
    "p = sns.distplot(df.ad_sales, label = 'ad_sales')\n",
    "p.axes.legend()"
   ]
  },
  {
   "cell_type": "code",
   "execution_count": 6,
   "metadata": {},
   "outputs": [
    {
     "data": {
      "text/plain": [
       "<matplotlib.legend.Legend at 0x105dc5d30>"
      ]
     },
     "execution_count": 6,
     "metadata": {},
     "output_type": "execute_result"
    },
    {
     "data": {
      "image/png": "[encoded data removed]",
      "text/plain": [
       "<Figure size 432x288 with 1 Axes>"
      ]
     },
     "metadata": {
      "needs_background": "light"
     },
     "output_type": "display_data"
    }
   ],
   "source": [
    "#quantitative distplot with limit on Ox\n",
    "p = sns.distplot(df.ad_spend,label='ad_spend')\n",
    "p = sns.distplot(df.ad_sales,label = 'ad_sales')\n",
    "axes = p.axes\n",
    "axes.set_xlim(0,5000)\n",
    "axes.legend()"
   ]
  },
  {
   "cell_type": "code",
   "execution_count": 7,
   "metadata": {},
   "outputs": [
    {
     "data": {
      "text/plain": [
       "<matplotlib.axes._subplots.AxesSubplot at 0x11f95c9b0>"
      ]
     },
     "execution_count": 7,
     "metadata": {},
     "output_type": "execute_result"
    },
    {
     "data": {
      "image/png": "[encoded data removed]",
      "text/plain": [
       "<Figure size 432x288 with 1 Axes>"
      ]
     },
     "metadata": {
      "needs_background": "light"
     },
     "output_type": "display_data"
    }
   ],
   "source": [
    "#quantitatitave with filtering\n",
    "lim = 400\n",
    "sns.distplot(df[df.ad_spend<lim].ad_spend)\n",
    "sns.distplot(df[df.ad_sales<lim].ad_sales)"
   ]
  },
  {
   "cell_type": "code",
   "execution_count": 8,
   "metadata": {},
   "outputs": [
    {
     "data": {
      "text/plain": [
       "<matplotlib.axes._subplots.AxesSubplot at 0x124da9a20>"
      ]
     },
     "execution_count": 8,
     "metadata": {},
     "output_type": "execute_result"
    },
    {
     "data": {
      "image/png": "[encoded data removed]",
      "text/plain": [
       "<Figure size 432x288 with 1 Axes>"
      ]
     },
     "metadata": {
      "needs_background": "light"
     },
     "output_type": "display_data"
    }
   ],
   "source": [
    "#categorical barplot\n",
    "gr = df.groupby(['ad_format']).shop_id.count().reset_index()\n",
    "sns.barplot(x = 'ad_format', y = 'shop_id',data = gr)"
   ]
  },
  {
   "cell_type": "code",
   "execution_count": 9,
   "metadata": {},
   "outputs": [
    {
     "data": {
      "text/plain": [
       "<matplotlib.axes._subplots.AxesSubplot at 0x124eb4198>"
      ]
     },
     "execution_count": 9,
     "metadata": {},
     "output_type": "execute_result"
    },
    {
     "data": {
      "image/png": "[encoded data removed]",
      "text/plain": [
       "<Figure size 432x288 with 1 Axes>"
      ]
     },
     "metadata": {
      "needs_background": "light"
     },
     "output_type": "display_data"
    }
   ],
   "source": [
    "#categorical barplot with hue\n",
    "gr = df.groupby(['ad_format','app']).shop_id.count().reset_index()\n",
    "sns.barplot(x = 'ad_format', y = 'shop_id',hue = 'app',data = gr)"
   ]
  },
  {
   "cell_type": "code",
   "execution_count": 10,
   "metadata": {},
   "outputs": [
    {
     "data": {
      "text/plain": [
       "<matplotlib.axes._subplots.AxesSubplot at 0x124f950f0>"
      ]
     },
     "execution_count": 10,
     "metadata": {},
     "output_type": "execute_result"
    },
    {
     "data": {
      "image/png": "[encoded data removed]",
      "text/plain": [
       "<Figure size 432x288 with 1 Axes>"
      ]
     },
     "metadata": {
      "needs_background": "light"
     },
     "output_type": "display_data"
    }
   ],
   "source": [
    "#categorical boxplot\n",
    "sns.boxplot(x = 'ad_format',y = 'ad_spend', hue = 'app',data = df)"
   ]
  },
  {
   "cell_type": "code",
   "execution_count": 11,
   "metadata": {},
   "outputs": [
    {
     "data": {
      "text/plain": [
       "(0, 250000)"
      ]
     },
     "execution_count": 11,
     "metadata": {},
     "output_type": "execute_result"
    },
    {
     "data": {
      "image/png": "[encoded data removed]",
      "text/plain": [
       "<Figure size 432x288 with 1 Axes>"
      ]
     },
     "metadata": {
      "needs_background": "light"
     },
     "output_type": "display_data"
    }
   ],
   "source": [
    "#categorical boxplot with y_limit\n",
    "p = sns.boxplot(x = 'ad_format',y = 'monthly_pageviews',data = df)\n",
    "axes = p.axes\n",
    "axes.set_ylim(0,250000)"
   ]
  },
  {
   "cell_type": "code",
   "execution_count": null,
   "metadata": {},
   "outputs": [],
   "source": []
  }
 ],
 "metadata": {
  "kernelspec": {
   "display_name": "Python 3",
   "language": "python",
   "name": "python3"
  },
  "language_info": {
   "codemirror_mode": {
    "name": "ipython",
    "version": 3
   },
   "file_extension": ".py",
   "mimetype": "text/x-python",
   "name": "python",
   "nbconvert_exporter": "python",
   "pygments_lexer": "ipython3",
   "version": "3.7.2"
  }
 },
 "nbformat": 4,
 "nbformat_minor": 2
}
